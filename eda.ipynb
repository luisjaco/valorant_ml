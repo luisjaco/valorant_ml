{
 "cells": [
  {
   "cell_type": "code",
   "execution_count": 1,
   "metadata": {},
   "outputs": [
    {
     "name": "stderr",
     "output_type": "stream",
     "text": [
      "/var/folders/x4/j70qy1ns0gdg8282hfmvlbm80000gn/T/ipykernel_43159/4080736814.py:1: DeprecationWarning: \n",
      "Pyarrow will become a required dependency of pandas in the next major release of pandas (pandas 3.0),\n",
      "(to allow more performant data types, such as the Arrow string type, and better interoperability with other libraries)\n",
      "but was not found to be installed on your system.\n",
      "If this would cause problems for you,\n",
      "please provide us feedback at https://github.com/pandas-dev/pandas/issues/54466\n",
      "        \n",
      "  import pandas as pd\n"
     ]
    }
   ],
   "source": [
    "import pandas as pd"
   ]
  },
  {
   "cell_type": "code",
   "execution_count": 9,
   "metadata": {},
   "outputs": [
    {
     "name": "stdout",
     "output_type": "stream",
     "text": [
      "         name        tag                                                url  \\\n",
      "0         icy      #madi  https://tracker.gg/valorant/profile/riot/icy%2...   \n",
      "1       curry     #66666  https://tracker.gg/valorant/profile/riot/curry...   \n",
      "2       sen z      #5193  https://tracker.gg/valorant/profile/riot/sen%2...   \n",
      "3  LEV Mazino  #ÐµÑÐ»Ð¸  https://tracker.gg/valorant/profile/riot/LEV%2...   \n",
      "4         exa       #v1c  https://tracker.gg/valorant/profile/riot/exa%2...   \n",
      "\n",
      "   rank     tier  ranked_rating  damage_per_round  kd_ratio  headshot_percent  \\\n",
      "0     1  Radiant           1052               NaN       NaN               NaN   \n",
      "1     2  Radiant           1050               NaN       NaN               NaN   \n",
      "2     3  Radiant            921               NaN       NaN               NaN   \n",
      "3     4  Radiant            917               NaN       NaN               NaN   \n",
      "4     5  Radiant            888               NaN       NaN               NaN   \n",
      "\n",
      "   win_percent  ...  dd_per_round  kills  deaths  assists  acs  kad_ratio  \\\n",
      "0          NaN  ...           NaN    NaN     NaN      NaN  NaN        NaN   \n",
      "1          NaN  ...           NaN    NaN     NaN      NaN  NaN        NaN   \n",
      "2          NaN  ...           NaN    NaN     NaN      NaN  NaN        NaN   \n",
      "3          NaN  ...           NaN    NaN     NaN      NaN  NaN        NaN   \n",
      "4          NaN  ...           NaN    NaN     NaN      NaN  NaN        NaN   \n",
      "\n",
      "   kills_per_round  first_bloods  flawless_rounds  aces  \n",
      "0              NaN           NaN              NaN   NaN  \n",
      "1              NaN           NaN              NaN   NaN  \n",
      "2              NaN           NaN              NaN   NaN  \n",
      "3              NaN           NaN              NaN   NaN  \n",
      "4              NaN           NaN              NaN   NaN  \n",
      "\n",
      "[5 rows x 22 columns]\n"
     ]
    }
   ],
   "source": [
    "df = pd.read_csv('valorant_data.csv')\n",
    "print(df.head())\n"
   ]
  },
  {
   "cell_type": "code",
   "execution_count": 14,
   "metadata": {},
   "outputs": [
    {
     "name": "stdout",
     "output_type": "stream",
     "text": [
      "True\n"
     ]
    }
   ],
   "source": [
    "for index, row in df.iterrows():\n",
    "        print(pd.isna(row['damage_per_round']))\n",
    "        break"
   ]
  },
  {
   "cell_type": "code",
   "execution_count": 17,
   "metadata": {},
   "outputs": [
    {
     "name": "stdout",
     "output_type": "stream",
     "text": [
      "         name        tag                                                url  \\\n",
      "0         NaN        NaN                                                NaN   \n",
      "1       curry     #66666  https://tracker.gg/valorant/profile/riot/curry...   \n",
      "2       sen z      #5193  https://tracker.gg/valorant/profile/riot/sen%2...   \n",
      "3  LEV Mazino  #ÐµÑÐ»Ð¸  https://tracker.gg/valorant/profile/riot/LEV%2...   \n",
      "4         exa       #v1c  https://tracker.gg/valorant/profile/riot/exa%2...   \n",
      "\n",
      "   rank     tier  ranked_rating  damage_per_round  kd_ratio  headshot_percent  \\\n",
      "0   NaN      NaN            NaN               7.0       NaN               NaN   \n",
      "1   2.0  Radiant         1050.0               NaN       NaN               NaN   \n",
      "2   3.0  Radiant          921.0               NaN       NaN               NaN   \n",
      "3   4.0  Radiant          917.0               NaN       NaN               NaN   \n",
      "4   5.0  Radiant          888.0               NaN       NaN               NaN   \n",
      "\n",
      "   win_percent  ...  dd_per_round  kills  deaths  assists  acs  kad_ratio  \\\n",
      "0          NaN  ...           NaN    NaN     NaN      NaN  NaN        NaN   \n",
      "1          NaN  ...           NaN    NaN     NaN      NaN  NaN        NaN   \n",
      "2          NaN  ...           NaN    NaN     NaN      NaN  NaN        NaN   \n",
      "3          NaN  ...           NaN    NaN     NaN      NaN  NaN        NaN   \n",
      "4          NaN  ...           NaN    NaN     NaN      NaN  NaN        NaN   \n",
      "\n",
      "   kills_per_round  first_bloods  flawless_rounds  aces  \n",
      "0              NaN           NaN              NaN   NaN  \n",
      "1              NaN           NaN              NaN   NaN  \n",
      "2              NaN           NaN              NaN   NaN  \n",
      "3              NaN           NaN              NaN   NaN  \n",
      "4              NaN           NaN              NaN   NaN  \n",
      "\n",
      "[5 rows x 22 columns]\n"
     ]
    }
   ],
   "source": [
    "df.loc[0] = {\"damage_per_round\": 7}\n",
    "print(df.head())"
   ]
  },
  {
   "cell_type": "code",
   "execution_count": null,
   "metadata": {},
   "outputs": [],
   "source": []
  }
 ],
 "metadata": {
  "kernelspec": {
   "display_name": "env",
   "language": "python",
   "name": "python3"
  },
  "language_info": {
   "codemirror_mode": {
    "name": "ipython",
    "version": 3
   },
   "file_extension": ".py",
   "mimetype": "text/x-python",
   "name": "python",
   "nbconvert_exporter": "python",
   "pygments_lexer": "ipython3",
   "version": "3.11.5"
  }
 },
 "nbformat": 4,
 "nbformat_minor": 2
}
