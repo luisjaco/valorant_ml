{
 "cells": [
  {
   "cell_type": "markdown",
   "metadata": {},
   "source": [
    "## Introduction\n",
    "Coming from the eda in 'eda.iypnb', we found strongly correlated variables like 'acs', 'dd_per_round', and 'damage_per_round' to use in a linear regression model for predicting 'kd_ratio'. Let us begin working with these features to create a reliable model."
   ]
  },
  {
   "cell_type": "code",
   "execution_count": 163,
   "metadata": {},
   "outputs": [],
   "source": [
    "# Imports\n",
    "import pandas as pd\n",
    "import numpy as np\n",
    "from sklearn.linear_model import LinearRegression\n",
    "from sklearn.model_selection import train_test_split\n",
    "from sklearn.preprocessing import StandardScaler"
   ]
  },
  {
   "cell_type": "code",
   "execution_count": 164,
   "metadata": {},
   "outputs": [
    {
     "data": {
      "text/html": [
       "<div>\n",
       "<style scoped>\n",
       "    .dataframe tbody tr th:only-of-type {\n",
       "        vertical-align: middle;\n",
       "    }\n",
       "\n",
       "    .dataframe tbody tr th {\n",
       "        vertical-align: top;\n",
       "    }\n",
       "\n",
       "    .dataframe thead th {\n",
       "        text-align: right;\n",
       "    }\n",
       "</style>\n",
       "<table border=\"1\" class=\"dataframe\">\n",
       "  <thead>\n",
       "    <tr style=\"text-align: right;\">\n",
       "      <th></th>\n",
       "      <th>damage_per_round</th>\n",
       "      <th>kd_ratio</th>\n",
       "      <th>dd_per_round</th>\n",
       "      <th>acs</th>\n",
       "    </tr>\n",
       "  </thead>\n",
       "  <tbody>\n",
       "    <tr>\n",
       "      <th>0</th>\n",
       "      <td>169.8</td>\n",
       "      <td>1.32</td>\n",
       "      <td>35.0</td>\n",
       "      <td>259.0</td>\n",
       "    </tr>\n",
       "    <tr>\n",
       "      <th>1</th>\n",
       "      <td>165.6</td>\n",
       "      <td>1.23</td>\n",
       "      <td>28.0</td>\n",
       "      <td>250.3</td>\n",
       "    </tr>\n",
       "    <tr>\n",
       "      <th>2</th>\n",
       "      <td>188.8</td>\n",
       "      <td>1.51</td>\n",
       "      <td>59.0</td>\n",
       "      <td>286.8</td>\n",
       "    </tr>\n",
       "    <tr>\n",
       "      <th>3</th>\n",
       "      <td>162.7</td>\n",
       "      <td>1.32</td>\n",
       "      <td>34.0</td>\n",
       "      <td>244.6</td>\n",
       "    </tr>\n",
       "    <tr>\n",
       "      <th>4</th>\n",
       "      <td>180.9</td>\n",
       "      <td>1.38</td>\n",
       "      <td>37.0</td>\n",
       "      <td>282.6</td>\n",
       "    </tr>\n",
       "    <tr>\n",
       "      <th>...</th>\n",
       "      <td>...</td>\n",
       "      <td>...</td>\n",
       "      <td>...</td>\n",
       "      <td>...</td>\n",
       "    </tr>\n",
       "    <tr>\n",
       "      <th>5413</th>\n",
       "      <td>177.3</td>\n",
       "      <td>1.43</td>\n",
       "      <td>44.0</td>\n",
       "      <td>270.1</td>\n",
       "    </tr>\n",
       "    <tr>\n",
       "      <th>5414</th>\n",
       "      <td>159.3</td>\n",
       "      <td>1.17</td>\n",
       "      <td>21.0</td>\n",
       "      <td>234.9</td>\n",
       "    </tr>\n",
       "    <tr>\n",
       "      <th>5415</th>\n",
       "      <td>161.3</td>\n",
       "      <td>1.16</td>\n",
       "      <td>21.0</td>\n",
       "      <td>243.9</td>\n",
       "    </tr>\n",
       "    <tr>\n",
       "      <th>5416</th>\n",
       "      <td>143.8</td>\n",
       "      <td>1.05</td>\n",
       "      <td>9.0</td>\n",
       "      <td>217.0</td>\n",
       "    </tr>\n",
       "    <tr>\n",
       "      <th>5417</th>\n",
       "      <td>155.1</td>\n",
       "      <td>1.13</td>\n",
       "      <td>10.0</td>\n",
       "      <td>232.9</td>\n",
       "    </tr>\n",
       "  </tbody>\n",
       "</table>\n",
       "<p>5418 rows × 4 columns</p>\n",
       "</div>"
      ],
      "text/plain": [
       "      damage_per_round  kd_ratio  dd_per_round    acs\n",
       "0                169.8      1.32          35.0  259.0\n",
       "1                165.6      1.23          28.0  250.3\n",
       "2                188.8      1.51          59.0  286.8\n",
       "3                162.7      1.32          34.0  244.6\n",
       "4                180.9      1.38          37.0  282.6\n",
       "...                ...       ...           ...    ...\n",
       "5413             177.3      1.43          44.0  270.1\n",
       "5414             159.3      1.17          21.0  234.9\n",
       "5415             161.3      1.16          21.0  243.9\n",
       "5416             143.8      1.05           9.0  217.0\n",
       "5417             155.1      1.13          10.0  232.9\n",
       "\n",
       "[5418 rows x 4 columns]"
      ]
     },
     "metadata": {},
     "output_type": "display_data"
    }
   ],
   "source": [
    "# Loading csv\n",
    "df = pd.read_csv('sample.csv', usecols=['kd_ratio', 'acs', 'dd_per_round', 'damage_per_round'])\n",
    "display(df)"
   ]
  },
  {
   "cell_type": "code",
   "execution_count": 165,
   "metadata": {},
   "outputs": [
    {
     "name": "stdout",
     "output_type": "stream",
     "text": [
      "       damage_per_round     kd_ratio  dd_per_round          acs\n",
      "count       5418.000000  5418.000000   5418.000000  5418.000000\n",
      "mean         145.827925     1.072091      8.287006   220.623736\n",
      "std           14.224661     0.119815     13.555326    22.516934\n",
      "min           64.500000     0.440000    -64.000000    91.900000\n",
      "25%          136.225000     0.990000      0.000000   205.200000\n",
      "50%          144.850000     1.060000      7.000000   218.500000\n",
      "75%          153.900000     1.130000     15.000000   233.300000\n",
      "max          227.300000     2.160000    102.000000   369.100000\n"
     ]
    }
   ],
   "source": [
    "# Lets observe some summary statistics for our chosen features, as well as kd_ratio:\n",
    "print(df.describe())"
   ]
  },
  {
   "cell_type": "markdown",
   "metadata": {},
   "source": [
    "# Feature Engineering\n",
    "* Not all of these features are on the same scale, to ensure model efficiency it would be wise to shape our data.\n",
    "* Looking at the observations made in 'eda.ipynb', we can observe that our features all follow a Gaussian distribution, and contain outliers. From this we can conclude that standardization is a suitable option for how we can shape our data."
   ]
  },
  {
   "cell_type": "code",
   "execution_count": 166,
   "metadata": {},
   "outputs": [],
   "source": [
    "# Lets begin to standardize our features.\n",
    "ss = StandardScaler()"
   ]
  },
  {
   "cell_type": "code",
   "execution_count": 167,
   "metadata": {},
   "outputs": [],
   "source": [
    "# Shaping data:\n",
    "shaped_acs = np.array(df.acs).reshape(-1, 1)\n",
    "shaped_dd_per_round = np.array(df.dd_per_round).reshape(-1, 1)\n",
    "shaped_damage_per_round = np.array(df.damage_per_round).reshape(-1, 1)"
   ]
  },
  {
   "cell_type": "code",
   "execution_count": 168,
   "metadata": {},
   "outputs": [],
   "source": [
    "# Transforming data:\n",
    "df['acs_standardized'] = ss.fit_transform(shaped_acs)\n",
    "df['dd_per_round_standardized'] = ss.fit_transform(shaped_dd_per_round)\n",
    "df['damage_per_round_standardized'] = ss.fit_transform(shaped_damage_per_round)"
   ]
  },
  {
   "cell_type": "code",
   "execution_count": 169,
   "metadata": {},
   "outputs": [
    {
     "data": {
      "text/html": [
       "<div>\n",
       "<style scoped>\n",
       "    .dataframe tbody tr th:only-of-type {\n",
       "        vertical-align: middle;\n",
       "    }\n",
       "\n",
       "    .dataframe tbody tr th {\n",
       "        vertical-align: top;\n",
       "    }\n",
       "\n",
       "    .dataframe thead th {\n",
       "        text-align: right;\n",
       "    }\n",
       "</style>\n",
       "<table border=\"1\" class=\"dataframe\">\n",
       "  <thead>\n",
       "    <tr style=\"text-align: right;\">\n",
       "      <th></th>\n",
       "      <th>damage_per_round</th>\n",
       "      <th>kd_ratio</th>\n",
       "      <th>dd_per_round</th>\n",
       "      <th>acs</th>\n",
       "      <th>acs_standardized</th>\n",
       "      <th>dd_per_round_standardized</th>\n",
       "      <th>damage_per_round_standardized</th>\n",
       "    </tr>\n",
       "  </thead>\n",
       "  <tbody>\n",
       "    <tr>\n",
       "      <th>0</th>\n",
       "      <td>169.8</td>\n",
       "      <td>1.32</td>\n",
       "      <td>35.0</td>\n",
       "      <td>259.0</td>\n",
       "      <td>1.704486</td>\n",
       "      <td>1.970846</td>\n",
       "      <td>1.685403</td>\n",
       "    </tr>\n",
       "    <tr>\n",
       "      <th>1</th>\n",
       "      <td>165.6</td>\n",
       "      <td>1.23</td>\n",
       "      <td>28.0</td>\n",
       "      <td>250.3</td>\n",
       "      <td>1.318075</td>\n",
       "      <td>1.454396</td>\n",
       "      <td>1.390114</td>\n",
       "    </tr>\n",
       "    <tr>\n",
       "      <th>2</th>\n",
       "      <td>188.8</td>\n",
       "      <td>1.51</td>\n",
       "      <td>59.0</td>\n",
       "      <td>286.8</td>\n",
       "      <td>2.939227</td>\n",
       "      <td>3.741531</td>\n",
       "      <td>3.021235</td>\n",
       "    </tr>\n",
       "    <tr>\n",
       "      <th>3</th>\n",
       "      <td>162.7</td>\n",
       "      <td>1.32</td>\n",
       "      <td>34.0</td>\n",
       "      <td>244.6</td>\n",
       "      <td>1.064909</td>\n",
       "      <td>1.897067</td>\n",
       "      <td>1.186224</td>\n",
       "    </tr>\n",
       "    <tr>\n",
       "      <th>4</th>\n",
       "      <td>180.9</td>\n",
       "      <td>1.38</td>\n",
       "      <td>37.0</td>\n",
       "      <td>282.6</td>\n",
       "      <td>2.752683</td>\n",
       "      <td>2.118403</td>\n",
       "      <td>2.465810</td>\n",
       "    </tr>\n",
       "    <tr>\n",
       "      <th>...</th>\n",
       "      <td>...</td>\n",
       "      <td>...</td>\n",
       "      <td>...</td>\n",
       "      <td>...</td>\n",
       "      <td>...</td>\n",
       "      <td>...</td>\n",
       "      <td>...</td>\n",
       "    </tr>\n",
       "    <tr>\n",
       "      <th>5413</th>\n",
       "      <td>177.3</td>\n",
       "      <td>1.43</td>\n",
       "      <td>44.0</td>\n",
       "      <td>270.1</td>\n",
       "      <td>2.197494</td>\n",
       "      <td>2.634853</td>\n",
       "      <td>2.212705</td>\n",
       "    </tr>\n",
       "    <tr>\n",
       "      <th>5414</th>\n",
       "      <td>159.3</td>\n",
       "      <td>1.17</td>\n",
       "      <td>21.0</td>\n",
       "      <td>234.9</td>\n",
       "      <td>0.634082</td>\n",
       "      <td>0.937946</td>\n",
       "      <td>0.947180</td>\n",
       "    </tr>\n",
       "    <tr>\n",
       "      <th>5415</th>\n",
       "      <td>161.3</td>\n",
       "      <td>1.16</td>\n",
       "      <td>21.0</td>\n",
       "      <td>243.9</td>\n",
       "      <td>1.033818</td>\n",
       "      <td>0.937946</td>\n",
       "      <td>1.087794</td>\n",
       "    </tr>\n",
       "    <tr>\n",
       "      <th>5416</th>\n",
       "      <td>143.8</td>\n",
       "      <td>1.05</td>\n",
       "      <td>9.0</td>\n",
       "      <td>217.0</td>\n",
       "      <td>-0.160949</td>\n",
       "      <td>0.052604</td>\n",
       "      <td>-0.142577</td>\n",
       "    </tr>\n",
       "    <tr>\n",
       "      <th>5417</th>\n",
       "      <td>155.1</td>\n",
       "      <td>1.13</td>\n",
       "      <td>10.0</td>\n",
       "      <td>232.9</td>\n",
       "      <td>0.545252</td>\n",
       "      <td>0.126382</td>\n",
       "      <td>0.651891</td>\n",
       "    </tr>\n",
       "  </tbody>\n",
       "</table>\n",
       "<p>5418 rows × 7 columns</p>\n",
       "</div>"
      ],
      "text/plain": [
       "      damage_per_round  kd_ratio  dd_per_round    acs  acs_standardized  \\\n",
       "0                169.8      1.32          35.0  259.0          1.704486   \n",
       "1                165.6      1.23          28.0  250.3          1.318075   \n",
       "2                188.8      1.51          59.0  286.8          2.939227   \n",
       "3                162.7      1.32          34.0  244.6          1.064909   \n",
       "4                180.9      1.38          37.0  282.6          2.752683   \n",
       "...                ...       ...           ...    ...               ...   \n",
       "5413             177.3      1.43          44.0  270.1          2.197494   \n",
       "5414             159.3      1.17          21.0  234.9          0.634082   \n",
       "5415             161.3      1.16          21.0  243.9          1.033818   \n",
       "5416             143.8      1.05           9.0  217.0         -0.160949   \n",
       "5417             155.1      1.13          10.0  232.9          0.545252   \n",
       "\n",
       "      dd_per_round_standardized  damage_per_round_standardized  \n",
       "0                      1.970846                       1.685403  \n",
       "1                      1.454396                       1.390114  \n",
       "2                      3.741531                       3.021235  \n",
       "3                      1.897067                       1.186224  \n",
       "4                      2.118403                       2.465810  \n",
       "...                         ...                            ...  \n",
       "5413                   2.634853                       2.212705  \n",
       "5414                   0.937946                       0.947180  \n",
       "5415                   0.937946                       1.087794  \n",
       "5416                   0.052604                      -0.142577  \n",
       "5417                   0.126382                       0.651891  \n",
       "\n",
       "[5418 rows x 7 columns]"
      ]
     },
     "metadata": {},
     "output_type": "display_data"
    },
    {
     "name": "stdout",
     "output_type": "stream",
     "text": [
      "       damage_per_round     kd_ratio  dd_per_round          acs  \\\n",
      "count       5418.000000  5418.000000   5418.000000  5418.000000   \n",
      "mean         145.827925     1.072091      8.287006   220.623736   \n",
      "std           14.224661     0.119815     13.555326    22.516934   \n",
      "min           64.500000     0.440000    -64.000000    91.900000   \n",
      "25%          136.225000     0.990000      0.000000   205.200000   \n",
      "50%          144.850000     1.060000      7.000000   218.500000   \n",
      "75%          153.900000     1.130000     15.000000   233.300000   \n",
      "max          227.300000     2.160000    102.000000   369.100000   \n",
      "\n",
      "       acs_standardized  dd_per_round_standardized  \\\n",
      "count      5.418000e+03               5.418000e+03   \n",
      "mean       2.413065e-16              -1.573738e-17   \n",
      "std        1.000092e+00               1.000092e+00   \n",
      "min       -5.717280e+00              -5.333231e+00   \n",
      "25%       -6.850470e-01              -6.114033e-01   \n",
      "50%       -9.432597e-02              -9.495346e-02   \n",
      "75%        5.630178e-01               4.952750e-01   \n",
      "max        6.594591e+00               6.914009e+00   \n",
      "\n",
      "       damage_per_round_standardized  \n",
      "count                   5.418000e+03  \n",
      "mean                    4.222864e-16  \n",
      "std                     1.000092e+00  \n",
      "min                    -5.717917e+00  \n",
      "25%                    -6.751523e-01  \n",
      "50%                    -6.875494e-02  \n",
      "75%                     5.675228e-01  \n",
      "max                     5.728052e+00  \n"
     ]
    }
   ],
   "source": [
    "# Observing new columns:\n",
    "display(df)\n",
    "print(df.describe())"
   ]
  },
  {
   "cell_type": "markdown",
   "metadata": {},
   "source": [
    "# Model Creation\n",
    "Now that we've standardized our features, we can begin to test different features and see how they perform in a linear regression model."
   ]
  },
  {
   "cell_type": "code",
   "execution_count": 170,
   "metadata": {},
   "outputs": [
    {
     "name": "stdout",
     "output_type": "stream",
     "text": [
      "training x:\n",
      "      acs_standardized  dd_per_round_standardized  \\\n",
      "3560         -0.058794                  -0.021175   \n",
      "4956          0.540810                   1.306839   \n",
      "\n",
      "      damage_per_round_standardized  \n",
      "3560                      -0.051178  \n",
      "4956                       0.806566  \n",
      "training y:\n",
      "3560    1.03\n",
      "4956    1.18\n",
      "Name: kd_ratio, dtype: float64\n",
      "testing x:\n",
      "     acs_standardized  dd_per_round_standardized  \\\n",
      "832         -0.964862                  -0.316289   \n",
      "213          0.314293                  -0.021175   \n",
      "\n",
      "     damage_per_round_standardized  \n",
      "832                      -1.063598  \n",
      "213                       0.412848  \n",
      "testing y:\n",
      "832    1.09\n",
      "213    1.06\n",
      "Name: kd_ratio, dtype: float64\n"
     ]
    }
   ],
   "source": [
    "# First, lets create our testing and training sets:\n",
    "x_train, x_test, y_train, y_test = train_test_split(df[['acs_standardized', 'dd_per_round_standardized', 'damage_per_round_standardized']],\n",
    "                                                     df['kd_ratio'],\n",
    "                                                     train_size=.8,\n",
    "                                                     test_size=.2,\n",
    "                                                     shuffle=True,\n",
    "                                                     random_state=48)\n",
    "print(\"training x:\", x_train.head(2), \"training y:\", y_train.head(2), \"testing x:\", x_test.head(2), \"testing y:\", y_test.head(2), sep='\\n')"
   ]
  },
  {
   "cell_type": "code",
   "execution_count": 171,
   "metadata": {},
   "outputs": [
    {
     "name": "stdout",
     "output_type": "stream",
     "text": [
      "all_feature_model R^2 score: 0.9402540007687736\n"
     ]
    }
   ],
   "source": [
    "# Now that our testing and training data has been created, lets first create a linear regression model using all three features:\n",
    "all_feature_model = LinearRegression()\n",
    "all_feature_model.fit(x_train, y_train)\n",
    "# Lets view the R^2 score of all_feature_model:\n",
    "rr_score = all_feature_model.score(x_test, y_test)\n",
    "print(\"all_feature_model R^2 score: \" + str(rr_score))"
   ]
  },
  {
   "cell_type": "code",
   "execution_count": 172,
   "metadata": {},
   "outputs": [
    {
     "name": "stdout",
     "output_type": "stream",
     "text": [
      "acs coef: 0.11742619432034328\n",
      "dd_per_round coef: 0.11343740975020018\n",
      "damage_per_round coef: -0.11350988695075338\n"
     ]
    }
   ],
   "source": [
    "# Lets see how our variables correlate to all_features_model:\n",
    "coefs = all_feature_model.coef_\n",
    "print(f\"acs coef: {coefs[0]}\\ndd_per_round coef: {coefs[1]}\\ndamage_per_round coef: {coefs[2]}\")"
   ]
  },
  {
   "cell_type": "code",
   "execution_count": 173,
   "metadata": {},
   "outputs": [
    {
     "name": "stdout",
     "output_type": "stream",
     "text": [
      "dd_and_damage_per_round_model R^2 score: 0.915157994998116\n"
     ]
    }
   ],
   "source": [
    "# Now let us try a model containing dd_per_round and damage_per_round:\n",
    "dd_and_damage_per_round_model = LinearRegression()\n",
    "dd_and_damage_per_round_model.fit(x_train[['dd_per_round_standardized', 'damage_per_round_standardized']], y_train)\n",
    "# Lets see the R^2 score of dd_and_damage_per_round_model\n",
    "rr_score = dd_and_damage_per_round_model.score(x_test[['dd_per_round_standardized', 'damage_per_round_standardized']], y_test)\n",
    "print(\"dd_and_damage_per_round_model R^2 score: \" + str(rr_score))"
   ]
  },
  {
   "cell_type": "code",
   "execution_count": 174,
   "metadata": {},
   "outputs": [
    {
     "name": "stdout",
     "output_type": "stream",
     "text": [
      "dd_per_round coef: 0.10720129942189839\n",
      "damage_per_round coef: 0.007861708567579947\n"
     ]
    }
   ],
   "source": [
    "# Lets see how dd_per_round and damage_per_round correlate to dd_and_damage_per_round_model:\n",
    "coefs = dd_and_damage_per_round_model.coef_\n",
    "print(f\"dd_per_round coef: {coefs[0]}\\ndamage_per_round coef: {coefs[1]}\")"
   ]
  },
  {
   "cell_type": "code",
   "execution_count": 175,
   "metadata": {},
   "outputs": [
    {
     "name": "stdout",
     "output_type": "stream",
     "text": [
      "acs_and_dd_per_round_model R^2 score: 0.9192218462576195\n"
     ]
    }
   ],
   "source": [
    "# Lets try a model using acs and dd_per_round:\n",
    "acs_and_dd_per_round_model = LinearRegression()\n",
    "acs_and_dd_per_round_model.fit(x_train[['acs_standardized', 'dd_per_round_standardized']], y_train)\n",
    "# Lets see the R^2 score of acs_and_dd_per_round_model\n",
    "rr_score = acs_and_dd_per_round_model.score(x_test[['acs_standardized', 'dd_per_round_standardized']], y_test)\n",
    "print(\"acs_and_dd_per_round_model R^2 score: \" + str(rr_score))"
   ]
  },
  {
   "cell_type": "code",
   "execution_count": 176,
   "metadata": {},
   "outputs": [
    {
     "name": "stdout",
     "output_type": "stream",
     "text": [
      "acs: 0.017079263124967603\n",
      "dd_per_round coef: 0.09943955182110335\n"
     ]
    }
   ],
   "source": [
    "# Lets see how acs and dd_per_round correlate to acs_and_dd_per_round_model:\n",
    "coefs = acs_and_dd_per_round_model.coef_\n",
    "print(f\"acs: {coefs[0]}\\ndd_per_round coef: {coefs[1]}\")"
   ]
  },
  {
   "cell_type": "code",
   "execution_count": 177,
   "metadata": {},
   "outputs": [
    {
     "name": "stdout",
     "output_type": "stream",
     "text": [
      "acs_and_damage_per_round_model R^2 score: 0.7343417315511778\n"
     ]
    }
   ],
   "source": [
    "# Finally we will observe a model with acs and damage_per_round\n",
    "acs_and_damage_per_round_model = LinearRegression()\n",
    "acs_and_damage_per_round_model.fit(x_train[['acs_standardized', 'damage_per_round_standardized']], y_train)\n",
    "# Lets see the R^2 score of acs_and_damage_per_round_model\n",
    "rr_score = acs_and_damage_per_round_model.score(x_test[['acs_standardized', 'damage_per_round_standardized']], y_test)\n",
    "print(\"acs_and_damage_per_round_model R^2 score: \" + str(rr_score))"
   ]
  },
  {
   "cell_type": "code",
   "execution_count": 178,
   "metadata": {},
   "outputs": [
    {
     "name": "stdout",
     "output_type": "stream",
     "text": [
      "acs: 0.0595182794963564\n",
      "damage_per_round coef: 0.04370681584399669\n"
     ]
    }
   ],
   "source": [
    "# Lets see how acs and dd_per_round correlate to acs_and_dd_per_round_model:\n",
    "coefs = acs_and_damage_per_round_model.coef_\n",
    "print(f\"acs: {coefs[0]}\\ndamage_per_round coef: {coefs[1]}\")"
   ]
  },
  {
   "cell_type": "markdown",
   "metadata": {},
   "source": [
    "# Conclusion\n",
    "Seeing how linear regression models predict with different combinations of features, we can conclude the following:\n",
    "* Our most accurate model contained all three features with an R^2 of 0.9402540007687736.\n",
    "* The worst performing model contained the features 'acs' and 'damage_per_round', with an R^2 of 0.7343417315511778.\n",
    "* Features paired with 'damage_per_round' tended to perform worse compared to others."
   ]
  },
  {
   "cell_type": "code",
   "execution_count": null,
   "metadata": {},
   "outputs": [],
   "source": []
  }
 ],
 "metadata": {
  "kernelspec": {
   "display_name": "env",
   "language": "python",
   "name": "python3"
  },
  "language_info": {
   "codemirror_mode": {
    "name": "ipython",
    "version": 3
   },
   "file_extension": ".py",
   "mimetype": "text/x-python",
   "name": "python",
   "nbconvert_exporter": "python",
   "pygments_lexer": "ipython3",
   "version": "3.11.5"
  }
 },
 "nbformat": 4,
 "nbformat_minor": 2
}
